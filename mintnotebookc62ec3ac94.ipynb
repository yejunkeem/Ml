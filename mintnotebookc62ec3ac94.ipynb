{
 "cells": [
  {
   "cell_type": "code",
   "execution_count": 1,
   "id": "90464b8e",
   "metadata": {
    "_cell_guid": "b1076dfc-b9ad-4769-8c92-a6c4dae69d19",
    "_uuid": "8f2839f25d086af736a60e9eeb907d3b93b6e0e5",
    "execution": {
     "iopub.execute_input": "2022-11-07T15:24:02.284046Z",
     "iopub.status.busy": "2022-11-07T15:24:02.282683Z",
     "iopub.status.idle": "2022-11-07T15:24:08.201783Z",
     "shell.execute_reply": "2022-11-07T15:24:08.200485Z"
    },
    "papermill": {
     "duration": 5.929177,
     "end_time": "2022-11-07T15:24:08.205048",
     "exception": false,
     "start_time": "2022-11-07T15:24:02.275871",
     "status": "completed"
    },
    "tags": []
   },
   "outputs": [],
   "source": [
    "import tensorflow as tf\n",
    "import numpy as np\n",
    "import matplotlib.pyplot as plt\n",
    "import pandas as pd"
   ]
  },
  {
   "cell_type": "code",
   "execution_count": null,
   "id": "84c09594",
   "metadata": {
    "papermill": {
     "duration": 0.002107,
     "end_time": "2022-11-07T15:24:08.209986",
     "exception": false,
     "start_time": "2022-11-07T15:24:08.207879",
     "status": "completed"
    },
    "tags": []
   },
   "outputs": [],
   "source": []
  },
  {
   "cell_type": "code",
   "execution_count": 2,
   "id": "1c0b4436",
   "metadata": {
    "execution": {
     "iopub.execute_input": "2022-11-07T15:24:08.216704Z",
     "iopub.status.busy": "2022-11-07T15:24:08.216033Z",
     "iopub.status.idle": "2022-11-07T15:24:08.221873Z",
     "shell.execute_reply": "2022-11-07T15:24:08.220490Z"
    },
    "papermill": {
     "duration": 0.011828,
     "end_time": "2022-11-07T15:24:08.224123",
     "exception": false,
     "start_time": "2022-11-07T15:24:08.212295",
     "status": "completed"
    },
    "tags": []
   },
   "outputs": [],
   "source": [
    "import tensorflow as tf \n",
    "import matplotlib.pyplot as plt\n",
    "import numpy as np\n",
    "import pandas as pd"
   ]
  },
  {
   "cell_type": "code",
   "execution_count": 3,
   "id": "f1c1ecbe",
   "metadata": {
    "execution": {
     "iopub.execute_input": "2022-11-07T15:24:08.231433Z",
     "iopub.status.busy": "2022-11-07T15:24:08.230676Z",
     "iopub.status.idle": "2022-11-07T15:24:14.203929Z",
     "shell.execute_reply": "2022-11-07T15:24:14.202832Z"
    },
    "papermill": {
     "duration": 5.979869,
     "end_time": "2022-11-07T15:24:14.206819",
     "exception": false,
     "start_time": "2022-11-07T15:24:08.226950",
     "status": "completed"
    },
    "tags": []
   },
   "outputs": [],
   "source": [
    "df_train = pd.read_csv('../input/digit-recognizer/train.csv')\n",
    "df_test = pd.read_csv('../input/digit-recognizer/test.csv')"
   ]
  },
  {
   "cell_type": "code",
   "execution_count": 4,
   "id": "75ade251",
   "metadata": {
    "execution": {
     "iopub.execute_input": "2022-11-07T15:24:14.213654Z",
     "iopub.status.busy": "2022-11-07T15:24:14.213205Z",
     "iopub.status.idle": "2022-11-07T15:24:15.316096Z",
     "shell.execute_reply": "2022-11-07T15:24:15.314957Z"
    },
    "papermill": {
     "duration": 1.109771,
     "end_time": "2022-11-07T15:24:15.319147",
     "exception": false,
     "start_time": "2022-11-07T15:24:14.209376",
     "status": "completed"
    },
    "tags": []
   },
   "outputs": [
    {
     "name": "stdout",
     "output_type": "stream",
     "text": [
      "pandas_version 1.3.5\n"
     ]
    },
    {
     "name": "stderr",
     "output_type": "stream",
     "text": [
      "/opt/conda/lib/python3.7/site-packages/matplotlib/text.py:1223: FutureWarning: elementwise comparison failed; returning scalar instead, but in the future will perform elementwise comparison\n",
      "  if s != self._text:\n"
     ]
    },
    {
     "data": {
      "image/png": "[encoded data removed]",
      "text/plain": [
       "<Figure size 1440x216 with 10 Axes>"
      ]
     },
     "metadata": {
      "needs_background": "light"
     },
     "output_type": "display_data"
    }
   ],
   "source": [
    "print('pandas_version', pd.__version__)\n",
    "def prepare_dataset(df):\n",
    "    X = df\n",
    "    Y = None\n",
    "    if 'label' in df.columns:\n",
    "        Y = df['label'].values.reshape([-1,1])\n",
    "        X = df.drop('label', axis=1)\n",
    "    X = X.values\n",
    "    return X, Y\n",
    "\n",
    "train_X, train_Y = prepare_dataset(df_train)\n",
    "submit_X, _ = prepare_dataset(df_test)\n",
    "\n",
    "ntest = 10\n",
    "fig, ax = plt.subplots(nrows=1, ncols=ntest, figsize=(20, 3))\n",
    "\n",
    "indices = np.random.randint(0, train_X.shape[0], ntest)\n",
    "for idx, i in enumerate(indices):    \n",
    "    ax[idx].imshow(train_X[i].reshape(28, 28))\n",
    "    ax[idx].set_title(train_Y[i])\n",
    "    \n",
    "plt.show()"
   ]
  },
  {
   "cell_type": "code",
   "execution_count": null,
   "id": "4b1b6b38",
   "metadata": {
    "papermill": {
     "duration": 0.003851,
     "end_time": "2022-11-07T15:24:15.327327",
     "exception": false,
     "start_time": "2022-11-07T15:24:15.323476",
     "status": "completed"
    },
    "tags": []
   },
   "outputs": [],
   "source": []
  }
 ],
 "metadata": {
  "kernelspec": {
   "display_name": "Python 3",
   "language": "python",
   "name": "python3"
  },
  "language_info": {
   "codemirror_mode": {
    "name": "ipython",
    "version": 3
   },
   "file_extension": ".py",
   "mimetype": "text/x-python",
   "name": "python",
   "nbconvert_exporter": "python",
   "pygments_lexer": "ipython3",
   "version": "3.7.12"
  },
  "papermill": {
   "default_parameters": {},
   "duration": 25.203176,
   "end_time": "2022-11-07T15:24:18.525399",
   "environment_variables": {},
   "exception": null,
   "input_path": "__notebook__.ipynb",
   "output_path": "__notebook__.ipynb",
   "parameters": {},
   "start_time": "2022-11-07T15:23:53.322223",
   "version": "2.3.4"
  }
 },
 "nbformat": 4,
 "nbformat_minor": 5
}
