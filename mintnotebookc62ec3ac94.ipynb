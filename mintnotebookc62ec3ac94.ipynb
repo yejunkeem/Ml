{
 "cells": [
  {
   "cell_type": "code",
   "execution_count": 1,
   "id": "da9cd25c",
   "metadata": {
    "_cell_guid": "b1076dfc-b9ad-4769-8c92-a6c4dae69d19",
    "_uuid": "8f2839f25d086af736a60e9eeb907d3b93b6e0e5",
    "execution": {
     "iopub.execute_input": "2022-11-09T07:12:01.974154Z",
     "iopub.status.busy": "2022-11-09T07:12:01.973696Z",
     "iopub.status.idle": "2022-11-09T07:12:08.430475Z",
     "shell.execute_reply": "2022-11-09T07:12:08.428998Z"
    },
    "papermill": {
     "duration": 6.464959,
     "end_time": "2022-11-09T07:12:08.433673",
     "exception": false,
     "start_time": "2022-11-09T07:12:01.968714",
     "status": "completed"
    },
    "tags": []
   },
   "outputs": [],
   "source": [
    "import tensorflow as tf\n",
    "import numpy as np\n",
    "import matplotlib.pyplot as plt\n",
    "import pandas as pd"
   ]
  },
  {
   "cell_type": "code",
   "execution_count": 2,
   "id": "7c13597d",
   "metadata": {
    "execution": {
     "iopub.execute_input": "2022-11-09T07:12:08.439959Z",
     "iopub.status.busy": "2022-11-09T07:12:08.439293Z",
     "iopub.status.idle": "2022-11-09T07:12:14.476308Z",
     "shell.execute_reply": "2022-11-09T07:12:14.475107Z"
    },
    "papermill": {
     "duration": 6.043274,
     "end_time": "2022-11-09T07:12:14.479244",
     "exception": false,
     "start_time": "2022-11-09T07:12:08.435970",
     "status": "completed"
    },
    "tags": []
   },
   "outputs": [],
   "source": [
    "df_train = pd.read_csv('../input/digit-recognizer/train.csv')\n",
    "df_test = pd.read_csv('../input/digit-recognizer/test.csv')"
   ]
  },
  {
   "cell_type": "code",
   "execution_count": 3,
   "id": "938903ff",
   "metadata": {
    "execution": {
     "iopub.execute_input": "2022-11-09T07:12:14.485371Z",
     "iopub.status.busy": "2022-11-09T07:12:14.484529Z",
     "iopub.status.idle": "2022-11-09T07:12:15.613523Z",
     "shell.execute_reply": "2022-11-09T07:12:15.612488Z"
    },
    "papermill": {
     "duration": 1.134496,
     "end_time": "2022-11-09T07:12:15.615821",
     "exception": false,
     "start_time": "2022-11-09T07:12:14.481325",
     "status": "completed"
    },
    "tags": []
   },
   "outputs": [
    {
     "name": "stdout",
     "output_type": "stream",
     "text": [
      "pandas_version 1.3.5\n"
     ]
    },
    {
     "name": "stderr",
     "output_type": "stream",
     "text": [
      "/opt/conda/lib/python3.7/site-packages/matplotlib/text.py:1223: FutureWarning: elementwise comparison failed; returning scalar instead, but in the future will perform elementwise comparison\n",
      "  if s != self._text:\n"
     ]
    },
    {
     "data": {
      "image/png": "[encoded data removed]",
      "text/plain": [
       "<Figure size 1440x216 with 10 Axes>"
      ]
     },
     "metadata": {
      "needs_background": "light"
     },
     "output_type": "display_data"
    }
   ],
   "source": [
    "print('pandas_version', pd.__version__)\n",
    "def prepare_dataset(df):\n",
    "    X = df\n",
    "    Y = None\n",
    "    if 'label' in df.columns:\n",
    "        Y = df['label'].values.reshape([-1,1])\n",
    "        X = df.drop('label', axis=1)\n",
    "    X = X.values\n",
    "    return X, Y\n",
    "\n",
    "train_X, train_Y = prepare_dataset(df_train)\n",
    "submit_X, _ = prepare_dataset(df_test)\n",
    "\n",
    "ntest = 10\n",
    "fig, ax = plt.subplots(nrows=1, ncols=ntest, figsize=(20, 3))\n",
    "\n",
    "indices = np.random.randint(0, train_X.shape[0], ntest)\n",
    "for idx, i in enumerate(indices):    \n",
    "    ax[idx].imshow(train_X[i].reshape(28, 28))\n",
    "    ax[idx].set_title(train_Y[i])\n",
    "    \n",
    "plt.show()"
   ]
  },
  {
   "cell_type": "code",
   "execution_count": null,
   "id": "ec4bfc94",
   "metadata": {
    "papermill": {
     "duration": 0.002423,
     "end_time": "2022-11-09T07:12:15.621026",
     "exception": false,
     "start_time": "2022-11-09T07:12:15.618603",
     "status": "completed"
    },
    "tags": []
   },
   "outputs": [],
   "source": []
  }
 ],
 "metadata": {
  "kernelspec": {
   "display_name": "Python 3",
   "language": "python",
   "name": "python3"
  },
  "language_info": {
   "codemirror_mode": {
    "name": "ipython",
    "version": 3
   },
   "file_extension": ".py",
   "mimetype": "text/x-python",
   "name": "python",
   "nbconvert_exporter": "python",
   "pygments_lexer": "ipython3",
   "version": "3.7.12"
  },
  "papermill": {
   "default_parameters": {},
   "duration": 26.220306,
   "end_time": "2022-11-09T07:12:19.232855",
   "environment_variables": {},
   "exception": null,
   "input_path": "__notebook__.ipynb",
   "output_path": "__notebook__.ipynb",
   "parameters": {},
   "start_time": "2022-11-09T07:11:53.012549",
   "version": "2.3.4"
  }
 },
 "nbformat": 4,
 "nbformat_minor": 5
}
