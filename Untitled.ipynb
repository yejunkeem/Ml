{
 "cells": [
  {
   "cell_type": "code",
   "execution_count": 20,
   "id": "53b8057b",
   "metadata": {},
   "outputs": [],
   "source": [
    "from __future__ import absolute_import, division, print_function"
   ]
  },
  {
   "cell_type": "code",
   "execution_count": 21,
   "id": "5080518d",
   "metadata": {},
   "outputs": [],
   "source": [
    "import tensorflow as tf\n",
    "import numpy as np\n",
    "rng = np.random"
   ]
  },
  {
   "cell_type": "code",
   "execution_count": 22,
   "id": "8a8bd7fa",
   "metadata": {},
   "outputs": [],
   "source": [
    "learning_rate = 0.01\n",
    "training_steps = 1000\n",
    "display_step = 50"
   ]
  },
  {
   "cell_type": "code",
   "execution_count": 23,
   "id": "0e5f7beb",
   "metadata": {},
   "outputs": [],
   "source": [
    "X = np.array([3.3,4.4,5.5,6.71,6.93,4.168,9.779,6.182,7.59,2.167,\n",
    "              7.042,10.791,5.313,7.997,5.654,9.27,3.1])\n",
    "Y = np.array([1.7,2.76,2.09,3.19,1.694,1.573,3.366,2.596,2.53,1.221,\n",
    "              2.827,3.465,1.65,2.904,2.42,2.94,1.3])"
   ]
  },
  {
   "cell_type": "code",
   "execution_count": 24,
   "id": "9b18bda0",
   "metadata": {},
   "outputs": [],
   "source": [
    "W = tf.Variable(rng.randn(), name=\"weight\")\n",
    "b = tf.Variable(rng.randn(), name=\"bias\")\n",
    "\n",
    "# Linear regression (Wx + b).\n",
    "def linear_regression(x):\n",
    "    return W * x + b\n",
    "\n",
    "# Mean square error.\n",
    "def mean_square(y_pred, y_true):\n",
    "    return tf.reduce_mean(tf.square(y_pred - y_true))\n",
    "\n",
    "# Stochastic Gradient Descent Optimizer.\n",
    "optimizer = tf.optimizers.SGD(learning_rate)"
   ]
  },
  {
   "cell_type": "code",
   "execution_count": 25,
   "id": "58c2f1eb",
   "metadata": {},
   "outputs": [],
   "source": [
    "def run_optimization():\n",
    "    # Wrap computation inside a GradientTape for automatic differentiation.\n",
    "    with tf.GradientTape() as g:\n",
    "        pred = linear_regression(X)\n",
    "        loss = mean_square(pred, Y)\n",
    "\n",
    "    # Compute gradients.\n",
    "    gradients = g.gradient(loss, [W, b])\n",
    "    \n",
    "    # Update W and b following gradients.\n",
    "    optimizer.apply_gradients(zip(gradients, [W, b]))"
   ]
  },
  {
   "cell_type": "code",
   "execution_count": 26,
   "id": "2e05ea9f",
   "metadata": {},
   "outputs": [
    {
     "name": "stdout",
     "output_type": "stream",
     "text": [
      "step: 50, loss: 0.177635, W: 0.313451, b: 0.360550\n",
      "step: 100, loss: 0.172504, W: 0.306377, b: 0.410702\n",
      "step: 150, loss: 0.168481, W: 0.300113, b: 0.455114\n",
      "step: 200, loss: 0.165325, W: 0.294565, b: 0.494444\n",
      "step: 250, loss: 0.162851, W: 0.289652, b: 0.529274\n",
      "step: 300, loss: 0.160910, W: 0.285302, b: 0.560117\n",
      "step: 350, loss: 0.159389, W: 0.281449, b: 0.587431\n",
      "step: 400, loss: 0.158195, W: 0.278037, b: 0.611619\n",
      "step: 450, loss: 0.157259, W: 0.275016, b: 0.633040\n",
      "step: 500, loss: 0.156525, W: 0.272340, b: 0.652009\n",
      "step: 550, loss: 0.155950, W: 0.269971, b: 0.668807\n",
      "step: 600, loss: 0.155498, W: 0.267873, b: 0.683683\n",
      "step: 650, loss: 0.155144, W: 0.266014, b: 0.696857\n",
      "step: 700, loss: 0.154867, W: 0.264369, b: 0.708523\n",
      "step: 750, loss: 0.154649, W: 0.262912, b: 0.718854\n",
      "step: 800, loss: 0.154478, W: 0.261621, b: 0.728003\n",
      "step: 850, loss: 0.154344, W: 0.260478, b: 0.736105\n",
      "step: 900, loss: 0.154239, W: 0.259466, b: 0.743279\n",
      "step: 950, loss: 0.154157, W: 0.258570, b: 0.749633\n",
      "step: 1000, loss: 0.154092, W: 0.257777, b: 0.755260\n"
     ]
    }
   ],
   "source": [
    "for step in range(1, training_steps + 1):\n",
    "    # Run the optimization to update W and b values.\n",
    "    run_optimization()\n",
    "    \n",
    "    if step % display_step == 0:\n",
    "        pred = linear_regression(X)\n",
    "        loss = mean_square(pred, Y)\n",
    "        print(\"step: %i, loss: %f, W: %f, b: %f\" % (step, loss, W.numpy(), b.numpy()))"
   ]
  },
  {
   "cell_type": "code",
   "execution_count": 27,
   "id": "df95342c",
   "metadata": {},
   "outputs": [
    {
     "data": {
      "image/png": "[encoded data removed]",
      "text/plain": [
       "<Figure size 640x480 with 1 Axes>"
      ]
     },
     "metadata": {},
     "output_type": "display_data"
    }
   ],
   "source": [
    "import matplotlib.pyplot as plt\n",
    "plt.plot(X, Y, 'ro', label='Original data')\n",
    "plt.plot(X, np.array(W * X + b), label='Fitted line')\n",
    "plt.legend()\n",
    "plt.show()"
   ]
  },
  {
   "cell_type": "code",
   "execution_count": null,
   "id": "39c9ab7b",
   "metadata": {},
   "outputs": [],
   "source": []
  }
 ],
 "metadata": {
  "kernelspec": {
   "display_name": "env",
   "language": "python",
   "name": "env"
  },
  "language_info": {
   "codemirror_mode": {
    "name": "ipython",
    "version": 3
   },
   "file_extension": ".py",
   "mimetype": "text/x-python",
   "name": "python",
   "nbconvert_exporter": "python",
   "pygments_lexer": "ipython3",
   "version": "3.10.6"
  }
 },
 "nbformat": 4,
 "nbformat_minor": 5
}
